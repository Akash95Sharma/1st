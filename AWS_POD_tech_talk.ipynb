{
 "cells": [
  {
   "cell_type": "code",
   "execution_count": 1,
   "id": "548f941b-74e0-48f6-8ab3-2e98ac8b5c0d",
   "metadata": {
    "execution": {
     "iopub.execute_input": "2022-09-21T06:46:49.336325Z",
     "iopub.status.busy": "2022-09-21T06:46:49.336084Z",
     "iopub.status.idle": "2022-09-21T06:47:25.759970Z",
     "shell.execute_reply": "2022-09-21T06:47:25.759139Z",
     "shell.execute_reply.started": "2022-09-21T06:46:49.336301Z"
    },
    "tags": []
   },
   "outputs": [
    {
     "data": {
      "application/vnd.jupyter.widget-view+json": {
       "model_id": "386e7eae890f47b8a3a593b763c1c652",
       "version_major": 2,
       "version_minor": 0
      },
      "text/plain": [
       "VBox()"
      ]
     },
     "metadata": {},
     "output_type": "display_data"
    },
    {
     "name": "stdout",
     "output_type": "stream",
     "text": [
      "Starting Spark application\n"
     ]
    },
    {
     "data": {
      "text/html": [
       "<table>\n",
       "<tr><th>ID</th><th>YARN Application ID</th><th>Kind</th><th>State</th><th>Spark UI</th><th>Driver log</th><th>User</th><th>Current session?</th></tr><tr><td>0</td><td>application_1663742679722_0001</td><td>pyspark</td><td>idle</td><td><a target=\"_blank\" href=\"http://ip-172-31-6-240.ap-south-1.compute.internal:20888/proxy/application_1663742679722_0001/\" class=\"emr-proxy-link\" emr-resource=\"j-2X0AI2PHSYRV\n",
       "\" application-id=\"application_1663742679722_0001\">Link</a></td><td><a target=\"_blank\" href=\"http://ip-172-31-6-240.ap-south-1.compute.internal:8042/node/containerlogs/container_1663742679722_0001_01_000001/livy\" >Link</a></td><td>None</td><td>✔</td></tr></table>"
      ],
      "text/plain": [
       "<IPython.core.display.HTML object>"
      ]
     },
     "metadata": {},
     "output_type": "display_data"
    },
    {
     "data": {
      "application/vnd.jupyter.widget-view+json": {
       "model_id": "",
       "version_major": 2,
       "version_minor": 0
      },
      "text/plain": [
       "FloatProgress(value=0.0, bar_style='info', description='Progress:', layout=Layout(height='25px', width='50%'),…"
      ]
     },
     "metadata": {},
     "output_type": "display_data"
    },
    {
     "name": "stdout",
     "output_type": "stream",
     "text": [
      "SparkSession available as 'spark'.\n"
     ]
    },
    {
     "data": {
      "application/vnd.jupyter.widget-view+json": {
       "model_id": "",
       "version_major": 2,
       "version_minor": 0
      },
      "text/plain": [
       "FloatProgress(value=0.0, bar_style='info', description='Progress:', layout=Layout(height='25px', width='50%'),…"
      ]
     },
     "metadata": {},
     "output_type": "display_data"
    }
   ],
   "source": [
    "from pyspark.sql.functions import broadcast\n",
    "from pyspark.sql.functions import *\n",
    "from pyspark.sql.functions import udf\n",
    "from pyspark.sql.types import *\n",
    "from pyspark.sql import Window\n",
    "from pyspark.sql.window import Window"
   ]
  },
  {
   "cell_type": "code",
   "execution_count": 2,
   "id": "8b79d041-70a5-43e5-b83f-2858df9c4e20",
   "metadata": {
    "execution": {
     "iopub.execute_input": "2022-09-21T06:47:25.761829Z",
     "iopub.status.busy": "2022-09-21T06:47:25.761352Z",
     "iopub.status.idle": "2022-09-21T06:47:25.901135Z",
     "shell.execute_reply": "2022-09-21T06:47:25.900377Z",
     "shell.execute_reply.started": "2022-09-21T06:47:25.761789Z"
    },
    "tags": []
   },
   "outputs": [
    {
     "data": {
      "application/vnd.jupyter.widget-view+json": {
       "model_id": "9ef2d861fce44f6db8bc308dafb9b783",
       "version_major": 2,
       "version_minor": 0
      },
      "text/plain": [
       "VBox()"
      ]
     },
     "metadata": {},
     "output_type": "display_data"
    },
    {
     "data": {
      "application/vnd.jupyter.widget-view+json": {
       "model_id": "",
       "version_major": 2,
       "version_minor": 0
      },
      "text/plain": [
       "FloatProgress(value=0.0, bar_style='info', description='Progress:', layout=Layout(height='25px', width='50%'),…"
      ]
     },
     "metadata": {},
     "output_type": "display_data"
    }
   ],
   "source": [
    "acc = sc.accumulator(1)"
   ]
  },
  {
   "cell_type": "code",
   "execution_count": 12,
   "id": "9e751b6d-a694-4b86-a20d-2019c5bef500",
   "metadata": {
    "execution": {
     "iopub.execute_input": "2022-09-21T06:49:01.625349Z",
     "iopub.status.busy": "2022-09-21T06:49:01.625117Z",
     "iopub.status.idle": "2022-09-21T06:49:01.693657Z",
     "shell.execute_reply": "2022-09-21T06:49:01.692931Z",
     "shell.execute_reply.started": "2022-09-21T06:49:01.625323Z"
    },
    "tags": []
   },
   "outputs": [
    {
     "data": {
      "application/vnd.jupyter.widget-view+json": {
       "model_id": "7846258ac7634af8bfb513d2ed3415fa",
       "version_major": 2,
       "version_minor": 0
      },
      "text/plain": [
       "VBox()"
      ]
     },
     "metadata": {},
     "output_type": "display_data"
    },
    {
     "data": {
      "application/vnd.jupyter.widget-view+json": {
       "model_id": "",
       "version_major": 2,
       "version_minor": 0
      },
      "text/plain": [
       "FloatProgress(value=0.0, bar_style='info', description='Progress:', layout=Layout(height='25px', width='50%'),…"
      ]
     },
     "metadata": {},
     "output_type": "display_data"
    }
   ],
   "source": [
    "window = Window.partitionBy('User_id').orderBy('Time_Stamp')\n",
    "\n",
    "def somefunc(value,id):\n",
    "  global acc\n",
    "\n",
    "  if   value == '0' : \n",
    "    acc = 1\n",
    "    return('Session_id '+str(acc)+' of '+id)\n",
    "\n",
    "  elif value > 30:\n",
    "    acc+=1\n",
    "    return('Session_id '+str(acc)+' of '+id)\n",
    "  else:\n",
    "    return('Session_id '+str(acc)+' of '+id)\n",
    "        \n",
    "udfsomefunc = udf(somefunc, StringType())"
   ]
  },
  {
   "cell_type": "code",
   "execution_count": 4,
   "id": "5676ba18-d918-4274-a861-21732eb37432",
   "metadata": {
    "execution": {
     "iopub.execute_input": "2022-09-21T06:47:26.050269Z",
     "iopub.status.busy": "2022-09-21T06:47:26.049720Z",
     "iopub.status.idle": "2022-09-21T06:47:37.647816Z",
     "shell.execute_reply": "2022-09-21T06:47:37.647054Z",
     "shell.execute_reply.started": "2022-09-21T06:47:26.050221Z"
    },
    "tags": []
   },
   "outputs": [
    {
     "data": {
      "application/vnd.jupyter.widget-view+json": {
       "model_id": "01b5dce9e1694640b181257f6d187e8d",
       "version_major": 2,
       "version_minor": 0
      },
      "text/plain": [
       "VBox()"
      ]
     },
     "metadata": {},
     "output_type": "display_data"
    },
    {
     "data": {
      "application/vnd.jupyter.widget-view+json": {
       "model_id": "",
       "version_major": 2,
       "version_minor": 0
      },
      "text/plain": [
       "FloatProgress(value=0.0, bar_style='info', description='Progress:', layout=Layout(height='25px', width='50%'),…"
      ]
     },
     "metadata": {},
     "output_type": "display_data"
    }
   ],
   "source": [
    "df = spark.read.csv(\n",
    "    \"s3://aws-emr-resources-971996090633-ap-south-1/notebooks/e-DWW3JFF2I6LPKWT6PH45NCHKV/Tech_talk_Data.csv\",\n",
    "    header=True,\n",
    "    inferSchema=True)"
   ]
  },
  {
   "cell_type": "code",
   "execution_count": 5,
   "id": "8f30168c-2d91-426c-8647-e0aceb3fefe2",
   "metadata": {
    "execution": {
     "iopub.execute_input": "2022-09-21T06:47:37.649317Z",
     "iopub.status.busy": "2022-09-21T06:47:37.649052Z",
     "iopub.status.idle": "2022-09-21T06:47:37.941556Z",
     "shell.execute_reply": "2022-09-21T06:47:37.940887Z",
     "shell.execute_reply.started": "2022-09-21T06:47:37.649280Z"
    },
    "tags": []
   },
   "outputs": [
    {
     "data": {
      "application/vnd.jupyter.widget-view+json": {
       "model_id": "e209ab75025d4476b1f80b943d21abb6",
       "version_major": 2,
       "version_minor": 0
      },
      "text/plain": [
       "VBox()"
      ]
     },
     "metadata": {},
     "output_type": "display_data"
    },
    {
     "data": {
      "application/vnd.jupyter.widget-view+json": {
       "model_id": "",
       "version_major": 2,
       "version_minor": 0
      },
      "text/plain": [
       "FloatProgress(value=0.0, bar_style='info', description='Progress:', layout=Layout(height='25px', width='50%'),…"
      ]
     },
     "metadata": {},
     "output_type": "display_data"
    }
   ],
   "source": [
    "df.createOrReplaceTempView(\"data\")"
   ]
  },
  {
   "cell_type": "code",
   "execution_count": 6,
   "id": "7d54b720-4b4e-4c28-8fa4-5d9388bb21d3",
   "metadata": {
    "execution": {
     "iopub.execute_input": "2022-09-21T06:47:37.942714Z",
     "iopub.status.busy": "2022-09-21T06:47:37.942521Z",
     "iopub.status.idle": "2022-09-21T06:47:38.738094Z",
     "shell.execute_reply": "2022-09-21T06:47:38.737476Z",
     "shell.execute_reply.started": "2022-09-21T06:47:37.942687Z"
    },
    "tags": []
   },
   "outputs": [
    {
     "data": {
      "application/vnd.jupyter.widget-view+json": {
       "model_id": "2099b09eaf6b4770a9f3fe2ae97cd9c7",
       "version_major": 2,
       "version_minor": 0
      },
      "text/plain": [
       "VBox()"
      ]
     },
     "metadata": {},
     "output_type": "display_data"
    },
    {
     "data": {
      "application/vnd.jupyter.widget-view+json": {
       "model_id": "",
       "version_major": 2,
       "version_minor": 0
      },
      "text/plain": [
       "FloatProgress(value=0.0, bar_style='info', description='Progress:', layout=Layout(height='25px', width='50%'),…"
      ]
     },
     "metadata": {},
     "output_type": "display_data"
    },
    {
     "name": "stdout",
     "output_type": "stream",
     "text": [
      "+-----------------+-----+--------------+\n",
      "|          User_id|  URL|    Time_Stamp|\n",
      "+-----------------+-----+--------------+\n",
      "|The Giant Company|page1|10/29/22 11:10|\n",
      "|       Giant Food|page1|10/29/22 11:10|\n",
      "|      Stop & Shop|page1|10/29/22 11:10|\n",
      "+-----------------+-----+--------------+\n",
      "only showing top 3 rows"
     ]
    }
   ],
   "source": [
    "df.show(3)"
   ]
  },
  {
   "cell_type": "code",
   "execution_count": 7,
   "id": "8f967abe-c0eb-4b75-a87f-f0967fb2b3e5",
   "metadata": {
    "execution": {
     "iopub.execute_input": "2022-09-21T06:47:38.739230Z",
     "iopub.status.busy": "2022-09-21T06:47:38.739050Z",
     "iopub.status.idle": "2022-09-21T06:47:41.087657Z",
     "shell.execute_reply": "2022-09-21T06:47:41.087004Z",
     "shell.execute_reply.started": "2022-09-21T06:47:38.739207Z"
    },
    "tags": []
   },
   "outputs": [
    {
     "data": {
      "application/vnd.jupyter.widget-view+json": {
       "model_id": "683c5b303e8240e490246a0c2d58dccb",
       "version_major": 2,
       "version_minor": 0
      },
      "text/plain": [
       "VBox()"
      ]
     },
     "metadata": {},
     "output_type": "display_data"
    },
    {
     "data": {
      "application/vnd.jupyter.widget-view+json": {
       "model_id": "",
       "version_major": 2,
       "version_minor": 0
      },
      "text/plain": [
       "FloatProgress(value=0.0, bar_style='info', description='Progress:', layout=Layout(height='25px', width='50%'),…"
      ]
     },
     "metadata": {},
     "output_type": "display_data"
    }
   ],
   "source": [
    "data_min = spark.sql(\"\"\" \n",
    "select User_id, Time_stamp,\n",
    "case when diff is null then 0\n",
    "else (unix_timestamp(to_timestamp(Time_Stamp,\"dd/mm/yy HH:mm\"))- unix_timestamp(diff))/60 end as session_difference\n",
    "from (select User_id, URL, Time_Stamp, \n",
    "lag(to_timestamp(Time_Stamp,\"dd/mm/yy HH:mm\"),1) over(partition by User_id order by unix_timestamp(to_timestamp(Time_Stamp,\"dd/mm/yy HH:mm\")) asc) as diff\n",
    " from data)\"\"\")"
   ]
  },
  {
   "cell_type": "code",
   "execution_count": 9,
   "id": "0a4de083-b77b-4d6f-8df0-6efe7babdadb",
   "metadata": {
    "execution": {
     "iopub.execute_input": "2022-09-21T06:47:51.289113Z",
     "iopub.status.busy": "2022-09-21T06:47:51.288877Z",
     "iopub.status.idle": "2022-09-21T06:47:53.638876Z",
     "shell.execute_reply": "2022-09-21T06:47:53.637073Z",
     "shell.execute_reply.started": "2022-09-21T06:47:51.289088Z"
    }
   },
   "outputs": [
    {
     "data": {
      "application/vnd.jupyter.widget-view+json": {
       "model_id": "2820c507533641dda3a85b39117b6105",
       "version_major": 2,
       "version_minor": 0
      },
      "text/plain": [
       "VBox()"
      ]
     },
     "metadata": {},
     "output_type": "display_data"
    },
    {
     "data": {
      "application/vnd.jupyter.widget-view+json": {
       "model_id": "",
       "version_major": 2,
       "version_minor": 0
      },
      "text/plain": [
       "FloatProgress(value=0.0, bar_style='info', description='Progress:', layout=Layout(height='25px', width='50%'),…"
      ]
     },
     "metadata": {},
     "output_type": "display_data"
    },
    {
     "name": "stdout",
     "output_type": "stream",
     "text": [
      "+-----------+--------------+------------------+\n",
      "|    User_id|    Time_stamp|session_difference|\n",
      "+-----------+--------------+------------------+\n",
      "|Stop & Shop| 10/29/22 0:11|               0.0|\n",
      "|Stop & Shop| 10/29/22 0:41|              30.0|\n",
      "|Stop & Shop|10/29/22 11:10|             629.0|\n",
      "|Stop & Shop|10/31/22 11:18|               8.0|\n",
      "+-----------+--------------+------------------+\n",
      "only showing top 4 rows"
     ]
    }
   ],
   "source": [
    "data_min.show(4)"
   ]
  },
  {
   "cell_type": "code",
   "execution_count": 11,
   "id": "ed7a41c1-f27d-4993-9963-e02c7891af57",
   "metadata": {
    "execution": {
     "iopub.execute_input": "2022-09-21T06:48:41.193882Z",
     "iopub.status.busy": "2022-09-21T06:48:41.193635Z",
     "iopub.status.idle": "2022-09-21T06:48:41.278233Z",
     "shell.execute_reply": "2022-09-21T06:48:41.277584Z",
     "shell.execute_reply.started": "2022-09-21T06:48:41.193857Z"
    }
   },
   "outputs": [
    {
     "data": {
      "application/vnd.jupyter.widget-view+json": {
       "model_id": "8496000219fb4d5e8a427170437ef8e2",
       "version_major": 2,
       "version_minor": 0
      },
      "text/plain": [
       "VBox()"
      ]
     },
     "metadata": {},
     "output_type": "display_data"
    },
    {
     "data": {
      "application/vnd.jupyter.widget-view+json": {
       "model_id": "",
       "version_major": 2,
       "version_minor": 0
      },
      "text/plain": [
       "FloatProgress(value=0.0, bar_style='info', description='Progress:', layout=Layout(height='25px', width='50%'),…"
      ]
     },
     "metadata": {},
     "output_type": "display_data"
    },
    {
     "name": "stderr",
     "output_type": "stream",
     "text": [
      "An error was encountered:\n",
      "name 'udfsomefunc' is not defined\n",
      "Traceback (most recent call last):\n",
      "NameError: name 'udfsomefunc' is not defined\n",
      "\n"
     ]
    }
   ],
   "source": [
    "df3 = data_min.withColumn(\"Session\", udfsomefunc(\"session_difference\",\"User_id\"))\n"
   ]
  },
  {
   "cell_type": "code",
   "execution_count": 16,
   "id": "a17a7f38-fc1d-4cac-a151-bbd733fbda4c",
   "metadata": {
    "execution": {
     "iopub.execute_input": "2022-09-21T05:22:20.529249Z",
     "iopub.status.busy": "2022-09-21T05:22:20.529017Z",
     "iopub.status.idle": "2022-09-21T05:22:20.811132Z",
     "shell.execute_reply": "2022-09-21T05:22:20.810392Z",
     "shell.execute_reply.started": "2022-09-21T05:22:20.529225Z"
    },
    "tags": []
   },
   "outputs": [
    {
     "data": {
      "application/vnd.jupyter.widget-view+json": {
       "model_id": "2d790e390bf445d8b832481ce78b4fd6",
       "version_major": 2,
       "version_minor": 0
      },
      "text/plain": [
       "VBox()"
      ]
     },
     "metadata": {},
     "output_type": "display_data"
    },
    {
     "data": {
      "application/vnd.jupyter.widget-view+json": {
       "model_id": "",
       "version_major": 2,
       "version_minor": 0
      },
      "text/plain": [
       "FloatProgress(value=0.0, bar_style='info', description='Progress:', layout=Layout(height='25px', width='50%'),…"
      ]
     },
     "metadata": {},
     "output_type": "display_data"
    }
   ],
   "source": [
    "# data_min = spark.sql(\"\"\" select User_id,Time_Stamp,case when diff is null then 0\n",
    "# else datediff(diff,Time_stamp) end as session from (select User_id, URL, Time_Stamp, lag(Time_Stamp,1) over(partition by User_id order by Time_Stamp) as diff from data)\"\"\"\n",
    "#                     )"
   ]
  },
  {
   "cell_type": "code",
   "execution_count": 10,
   "id": "6837a9c3-bd4f-40e7-9176-8cff3dae2301",
   "metadata": {
    "execution": {
     "iopub.execute_input": "2022-09-21T06:48:33.525102Z",
     "iopub.status.busy": "2022-09-21T06:48:33.524859Z",
     "iopub.status.idle": "2022-09-21T06:48:34.847311Z",
     "shell.execute_reply": "2022-09-21T06:48:34.846611Z",
     "shell.execute_reply.started": "2022-09-21T06:48:33.525077Z"
    },
    "tags": []
   },
   "outputs": [
    {
     "data": {
      "application/vnd.jupyter.widget-view+json": {
       "model_id": "eca0fba86b8748f4b1e7b39c0d3ba63f",
       "version_major": 2,
       "version_minor": 0
      },
      "text/plain": [
       "VBox()"
      ]
     },
     "metadata": {},
     "output_type": "display_data"
    },
    {
     "data": {
      "application/vnd.jupyter.widget-view+json": {
       "model_id": "",
       "version_major": 2,
       "version_minor": 0
      },
      "text/plain": [
       "FloatProgress(value=0.0, bar_style='info', description='Progress:', layout=Layout(height='25px', width='50%'),…"
      ]
     },
     "metadata": {},
     "output_type": "display_data"
    },
    {
     "name": "stdout",
     "output_type": "stream",
     "text": [
      "+----------+--------------+------------------+\n",
      "|   User_id|    Time_stamp|session_difference|\n",
      "+----------+--------------+------------------+\n",
      "|    GF/TGC| 10/29/22 0:11|               0.0|\n",
      "|    GF/TGC| 10/29/22 0:41|              30.0|\n",
      "|    GF/TGC|10/29/22 11:10|             629.0|\n",
      "|    GF/TGC| 11/2/22 11:18|            1448.0|\n",
      "|Giant Food| 10/29/22 0:11|               0.0|\n",
      "|Giant Food| 10/29/22 0:41|              30.0|\n",
      "|Giant Food|10/29/22 11:10|             629.0|\n",
      "|Giant Food|10/30/22 11:18|               8.0|\n",
      "|   S&S/TGC| 10/29/22 0:11|               0.0|\n",
      "|   S&S/TGC| 10/29/22 0:41|              30.0|\n",
      "|   S&S/TGC|10/29/22 11:10|             629.0|\n",
      "|   S&S/TGC| 11/1/22 11:18|            1448.0|\n",
      "+----------+--------------+------------------+\n",
      "only showing top 12 rows"
     ]
    }
   ],
   "source": [
    "data_min.sort(col('User_id'), col('Time_Stamp')).show(12)"
   ]
  },
  {
   "cell_type": "code",
   "execution_count": 32,
   "id": "453916ab-1022-40e6-93c3-fdd40ca6a275",
   "metadata": {
    "execution": {
     "iopub.execute_input": "2022-09-21T04:34:33.312992Z",
     "iopub.status.busy": "2022-09-21T04:34:33.312751Z",
     "iopub.status.idle": "2022-09-21T04:34:33.374693Z",
     "shell.execute_reply": "2022-09-21T04:34:33.374073Z",
     "shell.execute_reply.started": "2022-09-21T04:34:33.312966Z"
    }
   },
   "outputs": [
    {
     "data": {
      "application/vnd.jupyter.widget-view+json": {
       "model_id": "e2c076b66c7744ad9ea2113e3d9d598d",
       "version_major": 2,
       "version_minor": 0
      },
      "text/plain": [
       "VBox()"
      ]
     },
     "metadata": {},
     "output_type": "display_data"
    },
    {
     "data": {
      "application/vnd.jupyter.widget-view+json": {
       "model_id": "",
       "version_major": 2,
       "version_minor": 0
      },
      "text/plain": [
       "FloatProgress(value=0.0, bar_style='info', description='Progress:', layout=Layout(height='25px', width='50%'),…"
      ]
     },
     "metadata": {},
     "output_type": "display_data"
    }
   ],
   "source": [
    "from pyspark.sql.functions import *"
   ]
  },
  {
   "cell_type": "code",
   "execution_count": 33,
   "id": "5419d114-f258-42b2-8678-985c5766f81e",
   "metadata": {
    "execution": {
     "iopub.execute_input": "2022-09-21T04:35:59.771595Z",
     "iopub.status.busy": "2022-09-21T04:35:59.771256Z",
     "iopub.status.idle": "2022-09-21T04:36:09.102996Z",
     "shell.execute_reply": "2022-09-21T04:36:09.102310Z",
     "shell.execute_reply.started": "2022-09-21T04:35:59.771550Z"
    }
   },
   "outputs": [
    {
     "data": {
      "application/vnd.jupyter.widget-view+json": {
       "model_id": "74cb5b7cf64b422d98f6401c9aa977c8",
       "version_major": 2,
       "version_minor": 0
      },
      "text/plain": [
       "VBox()"
      ]
     },
     "metadata": {},
     "output_type": "display_data"
    },
    {
     "data": {
      "application/vnd.jupyter.widget-view+json": {
       "model_id": "",
       "version_major": 2,
       "version_minor": 0
      },
      "text/plain": [
       "FloatProgress(value=0.0, bar_style='info', description='Progress:', layout=Layout(height='25px', width='50%'),…"
      ]
     },
     "metadata": {},
     "output_type": "display_data"
    },
    {
     "name": "stdout",
     "output_type": "stream",
     "text": [
      "+-----------------+-----+--------------+--------------+-------------+\n",
      "|User_id          |URL  |Time_Stamp    |diff          |DiffInSeconds|\n",
      "+-----------------+-----+--------------+--------------+-------------+\n",
      "|Stop & Shop      |page4|10/29/22 0:11 |null          |null         |\n",
      "|Stop & Shop      |page3|10/29/22 0:41 |10/29/22 0:11 |null         |\n",
      "|Stop & Shop      |page1|10/29/22 11:10|10/29/22 0:41 |null         |\n",
      "|Stop & Shop      |page2|10/31/22 11:18|10/29/22 11:10|null         |\n",
      "|GF/TGC           |page4|10/29/22 0:11 |null          |null         |\n",
      "|GF/TGC           |page3|10/29/22 0:41 |10/29/22 0:11 |null         |\n",
      "|GF/TGC           |page1|10/29/22 11:10|10/29/22 0:41 |null         |\n",
      "|GF/TGC           |page2|11/2/22 11:18 |10/29/22 11:10|null         |\n",
      "|Giant Food       |page4|10/29/22 0:11 |null          |null         |\n",
      "|Giant Food       |page3|10/29/22 0:41 |10/29/22 0:11 |null         |\n",
      "|Giant Food       |page1|10/29/22 11:10|10/29/22 0:41 |null         |\n",
      "|Giant Food       |page2|10/30/22 11:18|10/29/22 11:10|null         |\n",
      "|S&S/TGC          |page4|10/29/22 0:11 |null          |null         |\n",
      "|S&S/TGC          |page3|10/29/22 0:41 |10/29/22 0:11 |null         |\n",
      "|S&S/TGC          |page1|10/29/22 11:10|10/29/22 0:41 |null         |\n",
      "|S&S/TGC          |page2|11/1/22 11:18 |10/29/22 11:10|null         |\n",
      "|The Giant Company|page4|10/29/22 0:11 |null          |null         |\n",
      "|The Giant Company|page3|10/29/22 0:41 |10/29/22 0:11 |null         |\n",
      "|The Giant Company|page1|10/29/22 11:10|10/29/22 0:41 |null         |\n",
      "|The Giant Company|page2|10/29/22 11:18|10/29/22 11:10|null         |\n",
      "+-----------------+-----+--------------+--------------+-------------+"
     ]
    }
   ],
   "source": [
    "df2 = data_min.withColumn(\n",
    "    'DiffInSeconds',\n",
    "    col(\"Time_Stamp\").cast(\"long\") - col('diff').cast(\"long\"))\n",
    "df2.show(truncate=False)"
   ]
  },
  {
   "cell_type": "code",
   "execution_count": null,
   "id": "63877a54-a08a-4672-b757-305fe7e660d3",
   "metadata": {},
   "outputs": [],
   "source": []
  },
  {
   "cell_type": "code",
   "execution_count": null,
   "id": "63115dc7-15bb-4ea2-b7ca-68ee91d29ff1",
   "metadata": {},
   "outputs": [],
   "source": []
  },
  {
   "cell_type": "code",
   "execution_count": null,
   "id": "4683f43f-6ef5-48d5-b546-1251c90f716e",
   "metadata": {},
   "outputs": [],
   "source": []
  },
  {
   "cell_type": "code",
   "execution_count": 19,
   "id": "c7683896-6e03-4ffd-bf2b-6636a9a72291",
   "metadata": {
    "execution": {
     "iopub.execute_input": "2022-09-21T04:17:54.634859Z",
     "iopub.status.busy": "2022-09-21T04:17:54.634515Z",
     "iopub.status.idle": "2022-09-21T04:17:54.717222Z",
     "shell.execute_reply": "2022-09-21T04:17:54.716324Z",
     "shell.execute_reply.started": "2022-09-21T04:17:54.634815Z"
    },
    "tags": []
   },
   "outputs": [
    {
     "data": {
      "application/vnd.jupyter.widget-view+json": {
       "model_id": "6c98ed364334427cabea9f757b7bd952",
       "version_major": 2,
       "version_minor": 0
      },
      "text/plain": [
       "VBox()"
      ]
     },
     "metadata": {},
     "output_type": "display_data"
    },
    {
     "data": {
      "application/vnd.jupyter.widget-view+json": {
       "model_id": "",
       "version_major": 2,
       "version_minor": 0
      },
      "text/plain": [
       "FloatProgress(value=0.0, bar_style='info', description='Progress:', layout=Layout(height='25px', width='50%'),…"
      ]
     },
     "metadata": {},
     "output_type": "display_data"
    },
    {
     "name": "stdout",
     "output_type": "stream",
     "text": [
      "root\n",
      " |-- User_id: string (nullable = true)\n",
      " |-- URL: string (nullable = true)\n",
      " |-- Time_Stamp: string (nullable = true)"
     ]
    }
   ],
   "source": [
    "df.printSchema()"
   ]
  },
  {
   "cell_type": "code",
   "execution_count": 3,
   "id": "5e87348f-65cf-4641-8305-d65ca299019c",
   "metadata": {
    "execution": {
     "iopub.execute_input": "2022-09-21T04:07:19.669136Z",
     "iopub.status.busy": "2022-09-21T04:07:19.668962Z",
     "iopub.status.idle": "2022-09-21T04:07:19.952871Z",
     "shell.execute_reply": "2022-09-21T04:07:19.952225Z",
     "shell.execute_reply.started": "2022-09-21T04:07:19.669115Z"
    },
    "tags": []
   },
   "outputs": [
    {
     "data": {
      "application/vnd.jupyter.widget-view+json": {
       "model_id": "4540b044b9a546f69597bea7b96e4f0e",
       "version_major": 2,
       "version_minor": 0
      },
      "text/plain": [
       "VBox()"
      ]
     },
     "metadata": {},
     "output_type": "display_data"
    },
    {
     "data": {
      "application/vnd.jupyter.widget-view+json": {
       "model_id": "",
       "version_major": 2,
       "version_minor": 0
      },
      "text/plain": [
       "FloatProgress(value=0.0, bar_style='info', description='Progress:', layout=Layout(height='25px', width='50%'),…"
      ]
     },
     "metadata": {},
     "output_type": "display_data"
    },
    {
     "name": "stdout",
     "output_type": "stream",
     "text": [
      "root\n",
      " |-- User_id: string (nullable = true)\n",
      " |-- URL: string (nullable = true)\n",
      " |-- Time_Stamp: string (nullable = true)"
     ]
    }
   ],
   "source": [
    "df.printSchema()"
   ]
  },
  {
   "cell_type": "code",
   "execution_count": 73,
   "id": "d065d39b-0760-4878-bd19-98daf6e2cbbc",
   "metadata": {
    "execution": {
     "iopub.execute_input": "2022-09-20T18:20:18.380199Z",
     "iopub.status.busy": "2022-09-20T18:20:18.379975Z",
     "iopub.status.idle": "2022-09-20T18:20:18.440799Z",
     "shell.execute_reply": "2022-09-20T18:20:18.440026Z",
     "shell.execute_reply.started": "2022-09-20T18:20:18.380176Z"
    },
    "tags": []
   },
   "outputs": [
    {
     "data": {
      "application/vnd.jupyter.widget-view+json": {
       "model_id": "21e0ef951eb9407a9eb53f05bba388fd",
       "version_major": 2,
       "version_minor": 0
      },
      "text/plain": [
       "VBox()"
      ]
     },
     "metadata": {},
     "output_type": "display_data"
    },
    {
     "data": {
      "application/vnd.jupyter.widget-view+json": {
       "model_id": "",
       "version_major": 2,
       "version_minor": 0
      },
      "text/plain": [
       "FloatProgress(value=0.0, bar_style='info', description='Progress:', layout=Layout(height='25px', width='50%'),…"
      ]
     },
     "metadata": {},
     "output_type": "display_data"
    }
   ],
   "source": [
    "schema = StructType([\n",
    "    StructField(\"User_id\", StringType(), True),\n",
    "    StructField(\"URL\", IntegerType(), False),\n",
    "    StructField(\"Time_Stamp\", TimestampType(), False)\n",
    "])"
   ]
  },
  {
   "cell_type": "code",
   "execution_count": 55,
   "id": "fc8f61c3-a7a8-431b-bcf1-c52aea9ead7c",
   "metadata": {
    "execution": {
     "iopub.execute_input": "2022-09-20T18:12:05.065902Z",
     "iopub.status.busy": "2022-09-20T18:12:05.065648Z",
     "iopub.status.idle": "2022-09-20T18:12:05.345535Z",
     "shell.execute_reply": "2022-09-20T18:12:05.344895Z",
     "shell.execute_reply.started": "2022-09-20T18:12:05.065868Z"
    },
    "tags": []
   },
   "outputs": [
    {
     "data": {
      "application/vnd.jupyter.widget-view+json": {
       "model_id": "2f468fcc24f04a69bc674525ce399c69",
       "version_major": 2,
       "version_minor": 0
      },
      "text/plain": [
       "VBox()"
      ]
     },
     "metadata": {},
     "output_type": "display_data"
    },
    {
     "data": {
      "application/vnd.jupyter.widget-view+json": {
       "model_id": "",
       "version_major": 2,
       "version_minor": 0
      },
      "text/plain": [
       "FloatProgress(value=0.0, bar_style='info', description='Progress:', layout=Layout(height='25px', width='50%'),…"
      ]
     },
     "metadata": {},
     "output_type": "display_data"
    },
    {
     "name": "stdout",
     "output_type": "stream",
     "text": [
      "[Row(User_id='The Giant Company', URL='page1', Time_Stamp='10/29/2022 11:10'), Row(User_id='Giant Food', URL='page1', Time_Stamp='10/29/2022 11:10'), Row(User_id='Stop & Shop', URL='page1', Time_Stamp='10/29/2022 11:10'), Row(User_id='S&S/TGC', URL='page1', Time_Stamp='10/29/2022 11:10'), Row(User_id='GF/TGC', URL='page1', Time_Stamp='10/29/2022 11:10'), Row(User_id='The Giant Company', URL='page4', Time_Stamp='10/29/2022 0:11'), Row(User_id='Giant Food', URL='page4', Time_Stamp='10/29/2022 0:11'), Row(User_id='Stop & Shop', URL='page4', Time_Stamp='10/29/2022 0:11'), Row(User_id='S&S/TGC', URL='page4', Time_Stamp='10/29/2022 0:11'), Row(User_id='GF/TGC', URL='page4', Time_Stamp='10/29/2022 0:11'), Row(User_id='The Giant Company', URL='page3', Time_Stamp='10/29/2022  15:11:23 AM'), Row(User_id='Giant Food', URL='page3', Time_Stamp='10/29/2022  15:11:23 AM'), Row(User_id='Stop & Shop', URL='page3', Time_Stamp='10/29/2022  15:11:23 AM'), Row(User_id='S&S/TGC', URL='page3', Time_Stamp='10/29/2022  15:11:23 AM'), Row(User_id='GF/TGC', URL='page3', Time_Stamp='10/29/2022  15:11:23 AM'), Row(User_id='The Giant Company', URL='page2', Time_Stamp='10/29/2022 11:18'), Row(User_id='Giant Food', URL='page2', Time_Stamp='10/30/2022 11:18'), Row(User_id='Stop & Shop', URL='page2', Time_Stamp='10/31/2022 11:18'), Row(User_id='S&S/TGC', URL='page2', Time_Stamp='11/1/2022 11:18'), Row(User_id='GF/TGC', URL='page2', Time_Stamp='11/2/2022 11:18')]"
     ]
    }
   ],
   "source": [
    "df.collect()"
   ]
  },
  {
   "cell_type": "code",
   "execution_count": 71,
   "id": "413b501c-5172-4957-a124-caad81d20b95",
   "metadata": {
    "execution": {
     "iopub.execute_input": "2022-09-20T18:16:50.843429Z",
     "iopub.status.busy": "2022-09-20T18:16:50.843090Z",
     "iopub.status.idle": "2022-09-20T18:16:50.916399Z",
     "shell.execute_reply": "2022-09-20T18:16:50.915671Z",
     "shell.execute_reply.started": "2022-09-20T18:16:50.843391Z"
    }
   },
   "outputs": [
    {
     "data": {
      "application/vnd.jupyter.widget-view+json": {
       "model_id": "43aeaa8e06b64d4b91efef36fbfd36fb",
       "version_major": 2,
       "version_minor": 0
      },
      "text/plain": [
       "VBox()"
      ]
     },
     "metadata": {},
     "output_type": "display_data"
    },
    {
     "data": {
      "application/vnd.jupyter.widget-view+json": {
       "model_id": "",
       "version_major": 2,
       "version_minor": 0
      },
      "text/plain": [
       "FloatProgress(value=0.0, bar_style='info', description='Progress:', layout=Layout(height='25px', width='50%'),…"
      ]
     },
     "metadata": {},
     "output_type": "display_data"
    },
    {
     "name": "stdout",
     "output_type": "stream",
     "text": [
      "root\n",
      " |-- User_id: string (nullable = true)\n",
      " |-- URL: string (nullable = true)\n",
      " |-- Time_Stamp: string (nullable = true)"
     ]
    }
   ],
   "source": [
    "df.printSchema()"
   ]
  },
  {
   "cell_type": "code",
   "execution_count": 56,
   "id": "e633cdce-ab6e-457c-a464-6d7f4f44c0d9",
   "metadata": {
    "execution": {
     "iopub.execute_input": "2022-09-20T18:12:05.346857Z",
     "iopub.status.busy": "2022-09-20T18:12:05.346680Z",
     "iopub.status.idle": "2022-09-20T18:12:05.412785Z",
     "shell.execute_reply": "2022-09-20T18:12:05.412093Z",
     "shell.execute_reply.started": "2022-09-20T18:12:05.346836Z"
    },
    "tags": []
   },
   "outputs": [
    {
     "data": {
      "application/vnd.jupyter.widget-view+json": {
       "model_id": "18c4c1bf08c54f62b0b2ad71b0f3a237",
       "version_major": 2,
       "version_minor": 0
      },
      "text/plain": [
       "VBox()"
      ]
     },
     "metadata": {},
     "output_type": "display_data"
    },
    {
     "data": {
      "application/vnd.jupyter.widget-view+json": {
       "model_id": "",
       "version_major": 2,
       "version_minor": 0
      },
      "text/plain": [
       "FloatProgress(value=0.0, bar_style='info', description='Progress:', layout=Layout(height='25px', width='50%'),…"
      ]
     },
     "metadata": {},
     "output_type": "display_data"
    },
    {
     "name": "stdout",
     "output_type": "stream",
     "text": [
      "<SparkContext master=yarn appName=livy-session-0>"
     ]
    }
   ],
   "source": [
    "sc"
   ]
  },
  {
   "cell_type": "code",
   "execution_count": 57,
   "id": "c8e5af55-c6a7-4b46-b824-28f22a99527e",
   "metadata": {
    "execution": {
     "iopub.execute_input": "2022-09-20T18:12:05.414191Z",
     "iopub.status.busy": "2022-09-20T18:12:05.414015Z",
     "iopub.status.idle": "2022-09-20T18:12:05.531806Z",
     "shell.execute_reply": "2022-09-20T18:12:05.530391Z",
     "shell.execute_reply.started": "2022-09-20T18:12:05.414168Z"
    },
    "tags": []
   },
   "outputs": [
    {
     "data": {
      "application/vnd.jupyter.widget-view+json": {
       "model_id": "3479d979033d4cc1918cbdbad6c583bc",
       "version_major": 2,
       "version_minor": 0
      },
      "text/plain": [
       "VBox()"
      ]
     },
     "metadata": {},
     "output_type": "display_data"
    },
    {
     "data": {
      "application/vnd.jupyter.widget-view+json": {
       "model_id": "",
       "version_major": 2,
       "version_minor": 0
      },
      "text/plain": [
       "FloatProgress(value=0.0, bar_style='info', description='Progress:', layout=Layout(height='25px', width='50%'),…"
      ]
     },
     "metadata": {},
     "output_type": "display_data"
    }
   ],
   "source": [
    "acc = sc.accumulator(1)"
   ]
  },
  {
   "cell_type": "code",
   "execution_count": 62,
   "id": "819e0da1-96ed-4041-935f-c81faabc9f6c",
   "metadata": {
    "execution": {
     "iopub.execute_input": "2022-09-20T18:12:24.468073Z",
     "iopub.status.busy": "2022-09-20T18:12:24.467809Z",
     "iopub.status.idle": "2022-09-20T18:12:24.538971Z",
     "shell.execute_reply": "2022-09-20T18:12:24.538355Z",
     "shell.execute_reply.started": "2022-09-20T18:12:24.468049Z"
    },
    "tags": []
   },
   "outputs": [
    {
     "data": {
      "application/vnd.jupyter.widget-view+json": {
       "model_id": "d9b61d0015654213a66f7b8485c74e97",
       "version_major": 2,
       "version_minor": 0
      },
      "text/plain": [
       "VBox()"
      ]
     },
     "metadata": {},
     "output_type": "display_data"
    },
    {
     "data": {
      "application/vnd.jupyter.widget-view+json": {
       "model_id": "",
       "version_major": 2,
       "version_minor": 0
      },
      "text/plain": [
       "FloatProgress(value=0.0, bar_style='info', description='Progress:', layout=Layout(height='25px', width='50%'),…"
      ]
     },
     "metadata": {},
     "output_type": "display_data"
    }
   ],
   "source": [
    "window = Window.partitionBy('User_id').orderBy('Time_Stamp')\n",
    "\n",
    "\n",
    "def somefunc(value, id):\n",
    "    global acc\n",
    "\n",
    "    if value is None:\n",
    "        acc = 1\n",
    "        return ('Session_id ' + str(acc) + ' of ' + id)\n",
    "\n",
    "    elif value > 30:\n",
    "        acc += 1\n",
    "        return ('Session_id ' + str(acc) + ' of ' + id)\n",
    "    else:\n",
    "        return ('Session_id ' + str(acc) + ' of ' + id)\n",
    "\n",
    "\n",
    "udfsomefunc = F.udf(somefunc, StringType())"
   ]
  },
  {
   "cell_type": "code",
   "execution_count": 68,
   "id": "b0fb8d0b-cd94-4586-ace4-4bad2e1a86e5",
   "metadata": {
    "execution": {
     "iopub.execute_input": "2022-09-20T18:16:04.607515Z",
     "iopub.status.busy": "2022-09-20T18:16:04.607288Z",
     "iopub.status.idle": "2022-09-20T18:16:04.665901Z",
     "shell.execute_reply": "2022-09-20T18:16:04.665199Z",
     "shell.execute_reply.started": "2022-09-20T18:16:04.607492Z"
    }
   },
   "outputs": [
    {
     "data": {
      "application/vnd.jupyter.widget-view+json": {
       "model_id": "7389db0e5cf24712832ea38e68637dd3",
       "version_major": 2,
       "version_minor": 0
      },
      "text/plain": [
       "VBox()"
      ]
     },
     "metadata": {},
     "output_type": "display_data"
    },
    {
     "data": {
      "application/vnd.jupyter.widget-view+json": {
       "model_id": "",
       "version_major": 2,
       "version_minor": 0
      },
      "text/plain": [
       "FloatProgress(value=0.0, bar_style='info', description='Progress:', layout=Layout(height='25px', width='50%'),…"
      ]
     },
     "metadata": {},
     "output_type": "display_data"
    }
   ],
   "source": [
    "from pyspark.sql.functions import *"
   ]
  },
  {
   "cell_type": "code",
   "execution_count": 69,
   "id": "bed2159b-0c0f-4d27-8c2e-20cd6c3cdeca",
   "metadata": {
    "execution": {
     "iopub.execute_input": "2022-09-20T18:16:12.349085Z",
     "iopub.status.busy": "2022-09-20T18:16:12.348862Z",
     "iopub.status.idle": "2022-09-20T18:16:12.415428Z",
     "shell.execute_reply": "2022-09-20T18:16:12.414794Z",
     "shell.execute_reply.started": "2022-09-20T18:16:12.349061Z"
    },
    "tags": []
   },
   "outputs": [
    {
     "data": {
      "application/vnd.jupyter.widget-view+json": {
       "model_id": "0c1d709b5a114bc09197d8880eb9d25f",
       "version_major": 2,
       "version_minor": 0
      },
      "text/plain": [
       "VBox()"
      ]
     },
     "metadata": {},
     "output_type": "display_data"
    },
    {
     "data": {
      "application/vnd.jupyter.widget-view+json": {
       "model_id": "",
       "version_major": 2,
       "version_minor": 0
      },
      "text/plain": [
       "FloatProgress(value=0.0, bar_style='info', description='Progress:', layout=Layout(height='25px', width='50%'),…"
      ]
     },
     "metadata": {},
     "output_type": "display_data"
    }
   ],
   "source": [
    "df2 = df.withColumn(\"unix_timestamp\", unix_timestamp(F.col(\"Time_Stamp\")))"
   ]
  },
  {
   "cell_type": "code",
   "execution_count": 70,
   "id": "ea32b4ff-22e6-4abf-805d-9bf9283a5651",
   "metadata": {
    "execution": {
     "iopub.execute_input": "2022-09-20T18:16:16.560201Z",
     "iopub.status.busy": "2022-09-20T18:16:16.559971Z",
     "iopub.status.idle": "2022-09-20T18:16:25.883785Z",
     "shell.execute_reply": "2022-09-20T18:16:25.883052Z",
     "shell.execute_reply.started": "2022-09-20T18:16:16.560178Z"
    },
    "tags": []
   },
   "outputs": [
    {
     "data": {
      "application/vnd.jupyter.widget-view+json": {
       "model_id": "03c65cea6dfd42f7bde62de1fdf7c6d7",
       "version_major": 2,
       "version_minor": 0
      },
      "text/plain": [
       "VBox()"
      ]
     },
     "metadata": {},
     "output_type": "display_data"
    },
    {
     "data": {
      "application/vnd.jupyter.widget-view+json": {
       "model_id": "",
       "version_major": 2,
       "version_minor": 0
      },
      "text/plain": [
       "FloatProgress(value=0.0, bar_style='info', description='Progress:', layout=Layout(height='25px', width='50%'),…"
      ]
     },
     "metadata": {},
     "output_type": "display_data"
    },
    {
     "name": "stdout",
     "output_type": "stream",
     "text": [
      "+-----------------+-----+----------------+--------------+\n",
      "|          User_id|  URL|      Time_Stamp|unix_timestamp|\n",
      "+-----------------+-----+----------------+--------------+\n",
      "|The Giant Company|page1|10/29/2022 11:10|          null|\n",
      "|       Giant Food|page1|10/29/2022 11:10|          null|\n",
      "|      Stop & Shop|page1|10/29/2022 11:10|          null|\n",
      "+-----------------+-----+----------------+--------------+\n",
      "only showing top 3 rows"
     ]
    }
   ],
   "source": [
    "df2.show(3)"
   ]
  },
  {
   "cell_type": "code",
   "execution_count": 65,
   "id": "4e2a60ab-dac2-47be-944c-04139ed2d735",
   "metadata": {
    "execution": {
     "iopub.execute_input": "2022-09-20T18:12:32.790694Z",
     "iopub.status.busy": "2022-09-20T18:12:32.790464Z",
     "iopub.status.idle": "2022-09-20T18:12:33.065759Z",
     "shell.execute_reply": "2022-09-20T18:12:33.065029Z",
     "shell.execute_reply.started": "2022-09-20T18:12:32.790670Z"
    },
    "tags": []
   },
   "outputs": [
    {
     "data": {
      "application/vnd.jupyter.widget-view+json": {
       "model_id": "d0b8620df69f42ffafbbca268f71fb02",
       "version_major": 2,
       "version_minor": 0
      },
      "text/plain": [
       "VBox()"
      ]
     },
     "metadata": {},
     "output_type": "display_data"
    },
    {
     "data": {
      "application/vnd.jupyter.widget-view+json": {
       "model_id": "",
       "version_major": 2,
       "version_minor": 0
      },
      "text/plain": [
       "FloatProgress(value=0.0, bar_style='info', description='Progress:', layout=Layout(height='25px', width='50%'),…"
      ]
     },
     "metadata": {},
     "output_type": "display_data"
    },
    {
     "name": "stdout",
     "output_type": "stream",
     "text": [
      "+-----------------+-----+--------------------+\n",
      "|          User_id|  URL|          Time_Stamp|\n",
      "+-----------------+-----+--------------------+\n",
      "|The Giant Company|page1|    10/29/2022 11:10|\n",
      "|       Giant Food|page1|    10/29/2022 11:10|\n",
      "|      Stop & Shop|page1|    10/29/2022 11:10|\n",
      "|          S&S/TGC|page1|    10/29/2022 11:10|\n",
      "|           GF/TGC|page1|    10/29/2022 11:10|\n",
      "|The Giant Company|page4|     10/29/2022 0:11|\n",
      "|       Giant Food|page4|     10/29/2022 0:11|\n",
      "|      Stop & Shop|page4|     10/29/2022 0:11|\n",
      "|          S&S/TGC|page4|     10/29/2022 0:11|\n",
      "|           GF/TGC|page4|     10/29/2022 0:11|\n",
      "|The Giant Company|page3|10/29/2022  15:11...|\n",
      "|       Giant Food|page3|10/29/2022  15:11...|\n",
      "|      Stop & Shop|page3|10/29/2022  15:11...|\n",
      "|          S&S/TGC|page3|10/29/2022  15:11...|\n",
      "|           GF/TGC|page3|10/29/2022  15:11...|\n",
      "|The Giant Company|page2|    10/29/2022 11:18|\n",
      "|       Giant Food|page2|    10/30/2022 11:18|\n",
      "|      Stop & Shop|page2|    10/31/2022 11:18|\n",
      "|          S&S/TGC|page2|     11/1/2022 11:18|\n",
      "|           GF/TGC|page2|     11/2/2022 11:18|\n",
      "+-----------------+-----+--------------------+"
     ]
    }
   ],
   "source": [
    "df.show()"
   ]
  },
  {
   "cell_type": "code",
   "execution_count": 53,
   "id": "502030c0-77aa-4fb3-8658-7c9ca260dc2d",
   "metadata": {
    "execution": {
     "iopub.execute_input": "2022-09-20T18:10:52.942561Z",
     "iopub.status.busy": "2022-09-20T18:10:52.942328Z",
     "iopub.status.idle": "2022-09-20T18:10:52.999862Z",
     "shell.execute_reply": "2022-09-20T18:10:52.999153Z",
     "shell.execute_reply.started": "2022-09-20T18:10:52.942536Z"
    },
    "tags": []
   },
   "outputs": [
    {
     "data": {
      "application/vnd.jupyter.widget-view+json": {
       "model_id": "95d734a6549e4740918bbcff7ff194cf",
       "version_major": 2,
       "version_minor": 0
      },
      "text/plain": [
       "VBox()"
      ]
     },
     "metadata": {},
     "output_type": "display_data"
    },
    {
     "data": {
      "application/vnd.jupyter.widget-view+json": {
       "model_id": "",
       "version_major": 2,
       "version_minor": 0
      },
      "text/plain": [
       "FloatProgress(value=0.0, bar_style='info', description='Progress:', layout=Layout(height='25px', width='50%'),…"
      ]
     },
     "metadata": {},
     "output_type": "display_data"
    },
    {
     "name": "stderr",
     "output_type": "stream",
     "text": [
      "An error was encountered:\n",
      "'DataFrame' object has no attribute 'unix_timestamp'\n",
      "Traceback (most recent call last):\n",
      "  File \"/usr/lib/spark/python/lib/pyspark.zip/pyspark/sql/dataframe.py\", line 1307, in __getattr__\n",
      "    \"'%s' object has no attribute '%s'\" % (self.__class__.__name__, name))\n",
      "AttributeError: 'DataFrame' object has no attribute 'unix_timestamp'\n",
      "\n"
     ]
    }
   ],
   "source": [
    "df3 = df2.withColumn(\n",
    "    'minutes',\n",
    "    ((df.unix_timestamp - funcs.lag(df.unix_timestamp, 1).over(window)) /\n",
    "     60).cast(IntegerType())).withColumn(\"Session\",\n",
    "                                         udfsomefunc(\"minutes\", \"SWID\"))"
   ]
  },
  {
   "cell_type": "code",
   "execution_count": 49,
   "id": "4c1e0a81-5043-4782-b0cb-01ce1bc77970",
   "metadata": {
    "execution": {
     "iopub.execute_input": "2022-09-20T18:09:08.987196Z",
     "iopub.status.busy": "2022-09-20T18:09:08.986931Z",
     "iopub.status.idle": "2022-09-20T18:09:09.045488Z",
     "shell.execute_reply": "2022-09-20T18:09:09.044910Z",
     "shell.execute_reply.started": "2022-09-20T18:09:08.987170Z"
    }
   },
   "outputs": [
    {
     "data": {
      "application/vnd.jupyter.widget-view+json": {
       "model_id": "ac4eb6baa8c64929b8d31ef09ec4f827",
       "version_major": 2,
       "version_minor": 0
      },
      "text/plain": [
       "VBox()"
      ]
     },
     "metadata": {},
     "output_type": "display_data"
    },
    {
     "data": {
      "application/vnd.jupyter.widget-view+json": {
       "model_id": "",
       "version_major": 2,
       "version_minor": 0
      },
      "text/plain": [
       "FloatProgress(value=0.0, bar_style='info', description='Progress:', layout=Layout(height='25px', width='50%'),…"
      ]
     },
     "metadata": {},
     "output_type": "display_data"
    }
   ],
   "source": [
    "import pyspark.sql.functions as F"
   ]
  },
  {
   "cell_type": "code",
   "execution_count": 52,
   "id": "ab7804ca-2a49-40d1-b33a-a532738793b8",
   "metadata": {
    "execution": {
     "iopub.execute_input": "2022-09-20T18:10:30.625853Z",
     "iopub.status.busy": "2022-09-20T18:10:30.625581Z",
     "iopub.status.idle": "2022-09-20T18:10:30.704402Z",
     "shell.execute_reply": "2022-09-20T18:10:30.703504Z",
     "shell.execute_reply.started": "2022-09-20T18:10:30.625824Z"
    },
    "tags": []
   },
   "outputs": [
    {
     "data": {
      "application/vnd.jupyter.widget-view+json": {
       "model_id": "fa031c575ae04a8b9e7a8eb22b28c0b6",
       "version_major": 2,
       "version_minor": 0
      },
      "text/plain": [
       "VBox()"
      ]
     },
     "metadata": {},
     "output_type": "display_data"
    },
    {
     "data": {
      "application/vnd.jupyter.widget-view+json": {
       "model_id": "",
       "version_major": 2,
       "version_minor": 0
      },
      "text/plain": [
       "FloatProgress(value=0.0, bar_style='info', description='Progress:', layout=Layout(height='25px', width='50%'),…"
      ]
     },
     "metadata": {},
     "output_type": "display_data"
    },
    {
     "name": "stderr",
     "output_type": "stream",
     "text": [
      "An error was encountered:\n",
      "Invalid argument, not a string or column: <function unix_timestamp at 0x7fb9f6269ef0> of type <class 'function'>. For column literals, use 'lit', 'array', 'struct' or 'create_map' function.\n",
      "Traceback (most recent call last):\n",
      "  File \"/usr/lib/spark/python/lib/pyspark.zip/pyspark/sql/functions.py\", line 825, in lag\n",
      "    return Column(sc._jvm.functions.lag(_to_java_column(col), count, default))\n",
      "  File \"/usr/lib/spark/python/lib/pyspark.zip/pyspark/sql/column.py\", line 53, in _to_java_column\n",
      "    \"function.\".format(col, type(col)))\n",
      "TypeError: Invalid argument, not a string or column: <function unix_timestamp at 0x7fb9f6269ef0> of type <class 'function'>. For column literals, use 'lit', 'array', 'struct' or 'create_map' function.\n",
      "\n"
     ]
    }
   ],
   "source": [
    "df3 = df2.withColumn(\"lag\", F.lag(F.unix_timestamp, 1).over(window))"
   ]
  },
  {
   "cell_type": "code",
   "execution_count": null,
   "id": "b193ec2b-8ab7-4355-8c7e-a38bd8ab67b7",
   "metadata": {},
   "outputs": [],
   "source": []
  }
 ],
 "metadata": {
  "kernelspec": {
   "display_name": "PySpark",
   "language": "python",
   "name": "pysparkkernel"
  },
  "language_info": {
   "codemirror_mode": {
    "name": "python",
    "version": 3
   },
   "file_extension": ".py",
   "mimetype": "text/x-python",
   "name": "pyspark",
   "pygments_lexer": "python3"
  }
 },
 "nbformat": 4,
 "nbformat_minor": 5
}
