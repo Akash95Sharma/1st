{
 "cells": [
  {
   "cell_type": "code",
   "execution_count": 1,
   "id": "548f941b-74e0-48f6-8ab3-2e98ac8b5c0d",
   "metadata": {
    "execution": {
     "iopub.execute_input": "2022-09-21T06:46:49.336325Z",
     "iopub.status.busy": "2022-09-21T06:46:49.336084Z",
     "iopub.status.idle": "2022-09-21T06:47:25.759970Z",
     "shell.execute_reply": "2022-09-21T06:47:25.759139Z",
     "shell.execute_reply.started": "2022-09-21T06:46:49.336301Z"
    },
    "tags": []
   },
   "outputs": [
    {
     "data": {
      "application/vnd.jupyter.widget-view+json": {
       "model_id": "386e7eae890f47b8a3a593b763c1c652",
       "version_major": 2,
       "version_minor": 0
      },
      "text/plain": [
       "VBox()"
      ]
     },
     "metadata": {},
     "output_type": "display_data"
    },
    {
     "name": "stdout",
     "output_type": "stream",
     "text": [
      "Starting Spark application\n"
     ]
    },
    {
     "data": {
      "text/html": [
       "<table>\n",
       "<tr><th>ID</th><th>YARN Application ID</th><th>Kind</th><th>State</th><th>Spark UI</th><th>Driver log</th><th>User</th><th>Current session?</th></tr><tr><td>0</td><td>application_1663742679722_0001</td><td>pyspark</td><td>idle</td><td><a target=\"_blank\" href=\"http://ip-172-31-6-240.ap-south-1.compute.internal:20888/proxy/application_1663742679722_0001/\" class=\"emr-proxy-link\" emr-resource=\"j-2X0AI2PHSYRV\n",
       "\" application-id=\"application_1663742679722_0001\">Link</a></td><td><a target=\"_blank\" href=\"http://ip-172-31-6-240.ap-south-1.compute.internal:8042/node/containerlogs/container_1663742679722_0001_01_000001/livy\" >Link</a></td><td>None</td><td>✔</td></tr></table>"
      ],
      "text/plain": [
       "<IPython.core.display.HTML object>"
      ]
     },
     "metadata": {},
     "output_type": "display_data"
    },
    {
     "data": {
      "application/vnd.jupyter.widget-view+json": {
       "model_id": "",
       "version_major": 2,
       "version_minor": 0
      },
      "text/plain": [
       "FloatProgress(value=0.0, bar_style='info', description='Progress:', layout=Layout(height='25px', width='50%'),…"
      ]
     },
     "metadata": {},
     "output_type": "display_data"
    },
    {
     "name": "stdout",
     "output_type": "stream",
     "text": [
      "SparkSession available as 'spark'.\n"
     ]
    },
    {
     "data": {
      "application/vnd.jupyter.widget-view+json": {
       "model_id": "",
       "version_major": 2,
       "version_minor": 0
      },
      "text/plain": [
       "FloatProgress(value=0.0, bar_style='info', description='Progress:', layout=Layout(height='25px', width='50%'),…"
      ]
     },
     "metadata": {},
     "output_type": "display_data"
    }
   ],
   "source": [
    "from pyspark.sql.functions import broadcast\n",
    "from pyspark.sql.functions import *\n",
    "from pyspark.sql.functions import udf\n",
    "from pyspark.sql.types import *\n",
    "from pyspark.sql import Window\n",
    "from pyspark.sql.window import Window"
   ]
  },
  {
   "cell_type": "code",
   "execution_count": 2,
   "id": "8b79d041-70a5-43e5-b83f-2858df9c4e20",
   "metadata": {
    "execution": {
     "iopub.execute_input": "2022-09-21T06:47:25.761829Z",
     "iopub.status.busy": "2022-09-21T06:47:25.761352Z",
     "iopub.status.idle": "2022-09-21T06:47:25.901135Z",
     "shell.execute_reply": "2022-09-21T06:47:25.900377Z",
     "shell.execute_reply.started": "2022-09-21T06:47:25.761789Z"
    },
    "tags": []
   },
   "outputs": [
    {
     "data": {
      "application/vnd.jupyter.widget-view+json": {
       "model_id": "9ef2d861fce44f6db8bc308dafb9b783",
       "version_major": 2,
       "version_minor": 0
      },
      "text/plain": [
       "VBox()"
      ]
     },
     "metadata": {},
     "output_type": "display_data"
    },
    {
     "data": {
      "application/vnd.jupyter.widget-view+json": {
       "model_id": "",
       "version_major": 2,
       "version_minor": 0
      },
      "text/plain": [
       "FloatProgress(value=0.0, bar_style='info', description='Progress:', layout=Layout(height='25px', width='50%'),…"
      ]
     },
     "metadata": {},
     "output_type": "display_data"
    }
   ],
   "source": [
    "acc = sc.accumulator(1)"
   ]
  },
  {
   "cell_type": "code",
   "execution_count": 12,
   "id": "9e751b6d-a694-4b86-a20d-2019c5bef500",
   "metadata": {
    "execution": {
     "iopub.execute_input": "2022-09-21T06:49:01.625349Z",
     "iopub.status.busy": "2022-09-21T06:49:01.625117Z",
     "iopub.status.idle": "2022-09-21T06:49:01.693657Z",
     "shell.execute_reply": "2022-09-21T06:49:01.692931Z",
     "shell.execute_reply.started": "2022-09-21T06:49:01.625323Z"
    },
    "tags": []
   },
   "outputs": [
    {
     "data": {
      "application/vnd.jupyter.widget-view+json": {
       "model_id": "7846258ac7634af8bfb513d2ed3415fa",
       "version_major": 2,
       "version_minor": 0
      },
      "text/plain": [
       "VBox()"
      ]
     },
     "metadata": {},
     "output_type": "display_data"
    },
    {
     "data": {
      "application/vnd.jupyter.widget-view+json": {
       "model_id": "",
       "version_major": 2,
       "version_minor": 0
      },
      "text/plain": [
       "FloatProgress(value=0.0, bar_style='info', description='Progress:', layout=Layout(height='25px', width='50%'),…"
      ]
     },
     "metadata": {},
     "output_type": "display_data"
    }
   ],
   "source": [
    "window = Window.partitionBy('User_id').orderBy('Time_Stamp')\n",
    "\n",
    "def somefunc(value,id):\n",
    "  global acc\n",
    "\n",
    "  if   value == '0' : \n",
    "    acc = 1\n",
    "    return('Session_id '+str(acc)+' of '+id)\n",
    "\n",
    "  elif value > 30:\n",
    "    acc+=1\n",
    "    return('Session_id '+str(acc)+' of '+id)\n",
    "  else:\n",
    "    return('Session_id '+str(acc)+' of '+id)\n",
    "        \n",
    "udfsomefunc = udf(somefunc, StringType())"
   ]
  },
  {
   "cell_type": "code",
   "execution_count": 4,
   "id": "5676ba18-d918-4274-a861-21732eb37432",
   "metadata": {
    "execution": {
     "iopub.execute_input": "2022-09-21T06:47:26.050269Z",
     "iopub.status.busy": "2022-09-21T06:47:26.049720Z",
     "iopub.status.idle": "2022-09-21T06:47:37.647816Z",
     "shell.execute_reply": "2022-09-21T06:47:37.647054Z",
     "shell.execute_reply.started": "2022-09-21T06:47:26.050221Z"
    },
    "tags": []
   },
   "outputs": [
    {
     "data": {
      "application/vnd.jupyter.widget-view+json": {
       "model_id": "01b5dce9e1694640b181257f6d187e8d",
       "version_major": 2,
       "version_minor": 0
      },
      "text/plain": [
       "VBox()"
      ]
     },
     "metadata": {},
     "output_type": "display_data"
    },
    {
     "data": {
      "application/vnd.jupyter.widget-view+json": {
       "model_id": "",
       "version_major": 2,
       "version_minor": 0
      },
      "text/plain": [
       "FloatProgress(value=0.0, bar_style='info', description='Progress:', layout=Layout(height='25px', width='50%'),…"
      ]
     },
     "metadata": {},
     "output_type": "display_data"
    }
   ],
   "source": [
    "df = spark.read.csv(\n",
    "    \"s3://aws-emr-resources-971996090633-ap-south-1/notebooks/e-DWW3JFF2I6LPKWT6PH45NCHKV/Tech_talk_Data.csv\",\n",
    "    header=True,\n",
    "    inferSchema=True)"
   ]
  },
  {
   "cell_type": "code",
   "execution_count": 5,
   "id": "8f30168c-2d91-426c-8647-e0aceb3fefe2",
   "metadata": {
    "execution": {
     "iopub.execute_input": "2022-09-21T06:47:37.649317Z",
     "iopub.status.busy": "2022-09-21T06:47:37.649052Z",
     "iopub.status.idle": "2022-09-21T06:47:37.941556Z",
     "shell.execute_reply": "2022-09-21T06:47:37.940887Z",
     "shell.execute_reply.started": "2022-09-21T06:47:37.649280Z"
    },
    "tags": []
   },
   "outputs": [
    {
     "data": {
      "application/vnd.jupyter.widget-view+json": {
       "model_id": "e209ab75025d4476b1f80b943d21abb6",
       "version_major": 2,
       "version_minor": 0
      },
      "text/plain": [
       "VBox()"
      ]
     },
     "metadata": {},
     "output_type": "display_data"
    },
    {
     "data": {
      "application/vnd.jupyter.widget-view+json": {
       "model_id": "",
       "version_major": 2,
       "version_minor": 0
      },
      "text/plain": [
       "FloatProgress(value=0.0, bar_style='info', description='Progress:', layout=Layout(height='25px', width='50%'),…"
      ]
     },
     "metadata": {},
     "output_type": "display_data"
    }
   ],
   "source": [
    "df.createOrReplaceTempView(\"data\")"
   ]
  },
  {
   "cell_type": "code",
   "execution_count": 6,
   "id": "7d54b720-4b4e-4c28-8fa4-5d9388bb21d3",
   "metadata": {
    "execution": {
     "iopub.execute_input": "2022-09-21T06:47:37.942714Z",
     "iopub.status.busy": "2022-09-21T06:47:37.942521Z",
     "iopub.status.idle": "2022-09-21T06:47:38.738094Z",
     "shell.execute_reply": "2022-09-21T06:47:38.737476Z",
     "shell.execute_reply.started": "2022-09-21T06:47:37.942687Z"
    },
    "tags": []
   },
   "outputs": [
    {
     "data": {
      "application/vnd.jupyter.widget-view+json": {
       "model_id": "2099b09eaf6b4770a9f3fe2ae97cd9c7",
       "version_major": 2,
       "version_minor": 0
      },
      "text/plain": [
       "VBox()"
      ]
     },
     "metadata": {},
     "output_type": "display_data"
    },
    {
     "data": {
      "application/vnd.jupyter.widget-view+json": {
       "model_id": "",
       "version_major": 2,
       "version_minor": 0
      },
      "text/plain": [
       "FloatProgress(value=0.0, bar_style='info', description='Progress:', layout=Layout(height='25px', width='50%'),…"
      ]
     },
     "metadata": {},
     "output_type": "display_data"
    },
    {
     "name": "stdout",
     "output_type": "stream",
     "text": [
      "+-----------------+-----+--------------+\n",
      "|          User_id|  URL|    Time_Stamp|\n",
      "+-----------------+-----+--------------+\n",
      "|The Giant Company|page1|10/29/22 11:10|\n",
      "|       Giant Food|page1|10/29/22 11:10|\n",
      "|      Stop & Shop|page1|10/29/22 11:10|\n",
      "+-----------------+-----+--------------+\n",
      "only showing top 3 rows"
     ]
    }
   ],
   "source": [
    "df.show(3)"
   ]
  },
  {
   "cell_type": "code",
   "execution_count": 7,
   "id": "8f967abe-c0eb-4b75-a87f-f0967fb2b3e5",
   "metadata": {
    "execution": {
     "iopub.execute_input": "2022-09-21T06:47:38.739230Z",
     "iopub.status.busy": "2022-09-21T06:47:38.739050Z",
     "iopub.status.idle": "2022-09-21T06:47:41.087657Z",
     "shell.execute_reply": "2022-09-21T06:47:41.087004Z",
     "shell.execute_reply.started": "2022-09-21T06:47:38.739207Z"
    },
    "tags": []
   },
   "outputs": [
    {
     "data": {
      "application/vnd.jupyter.widget-view+json": {
       "model_id": "683c5b303e8240e490246a0c2d58dccb",
       "version_major": 2,
       "version_minor": 0
      },
      "text/plain": [
       "VBox()"
      ]
     },
     "metadata": {},
     "output_type": "display_data"
    },
    {
     "data": {
      "application/vnd.jupyter.widget-view+json": {
       "model_id": "",
       "version_major": 2,
       "version_minor": 0
      },
      "text/plain": [
       "FloatProgress(value=0.0, bar_style='info', description='Progress:', layout=Layout(height='25px', width='50%'),…"
      ]
     },
     "metadata": {},
     "output_type": "display_data"
    }
   ],
   "source": [
    "data_min = spark.sql(\"\"\" \n",
    "select User_id, Time_stamp,\n",
    "case when diff is null then 0\n",
    "else (unix_timestamp(to_timestamp(Time_Stamp,\"dd/mm/yy HH:mm\"))- unix_timestamp(diff))/60 end as session_difference\n",
    "from (select User_id, URL, Time_Stamp, \n",
    "lag(to_timestamp(Time_Stamp,\"dd/mm/yy HH:mm\"),1) over(partition by User_id order by unix_timestamp(to_timestamp(Time_Stamp,\"dd/mm/yy HH:mm\")) asc) as diff\n",
    " from data)\"\"\")"
   ]
  },
  {
   "cell_type": "code",
   "execution_count": 9,
   "id": "0a4de083-b77b-4d6f-8df0-6efe7babdadb",
   "metadata": {
    "execution": {
     "iopub.execute_input": "2022-09-21T06:47:51.289113Z",
     "iopub.status.busy": "2022-09-21T06:47:51.288877Z",
     "iopub.status.idle": "2022-09-21T06:47:53.638876Z",
     "shell.execute_reply": "2022-09-21T06:47:53.637073Z",
     "shell.execute_reply.started": "2022-09-21T06:47:51.289088Z"
    }
   },
   "outputs": [
    {
     "data": {
      "application/vnd.jupyter.widget-view+json": {
       "model_id": "2820c507533641dda3a85b39117b6105",
       "version_major": 2,
       "version_minor": 0
      },
      "text/plain": [
       "VBox()"
      ]
     },
     "metadata": {},
     "output_type": "display_data"
    },
    {
     "data": {
      "application/vnd.jupyter.widget-view+json": {
       "model_id": "",
       "version_major": 2,
       "version_minor": 0
      },
      "text/plain": [
       "FloatProgress(value=0.0, bar_style='info', description='Progress:', layout=Layout(height='25px', width='50%'),…"
      ]
     },
     "metadata": {},
     "output_type": "display_data"
    },
    {
     "name": "stdout",
     "output_type": "stream",
     "text": [
      "+-----------+--------------+------------------+\n",
      "|    User_id|    Time_stamp|session_difference|\n",
      "+-----------+--------------+------------------+\n",
      "|Stop & Shop| 10/29/22 0:11|               0.0|\n",
      "|Stop & Shop| 10/29/22 0:41|              30.0|\n",
      "|Stop & Shop|10/29/22 11:10|             629.0|\n",
      "|Stop & Shop|10/31/22 11:18|               8.0|\n",
      "+-----------+--------------+------------------+\n",
      "only showing top 4 rows"
     ]
    }
   ],
   "source": [
    "data_min.show(4)"
   ]
  },
  {
   "cell_type": "code",
   "execution_count": 15,
   "id": "ed7a41c1-f27d-4993-9963-e02c7891af57",
   "metadata": {
    "execution": {
     "iopub.execute_input": "2022-09-21T06:56:26.172851Z",
     "iopub.status.busy": "2022-09-21T06:56:26.172624Z",
     "iopub.status.idle": "2022-09-21T06:56:26.288465Z",
     "shell.execute_reply": "2022-09-21T06:56:26.287839Z",
     "shell.execute_reply.started": "2022-09-21T06:56:26.172826Z"
    },
    "tags": []
   },
   "outputs": [
    {
     "data": {
      "application/vnd.jupyter.widget-view+json": {
       "model_id": "97f921afab29455f87d3ef94baab9f43",
       "version_major": 2,
       "version_minor": 0
      },
      "text/plain": [
       "VBox()"
      ]
     },
     "metadata": {},
     "output_type": "display_data"
    },
    {
     "data": {
      "application/vnd.jupyter.widget-view+json": {
       "model_id": "",
       "version_major": 2,
       "version_minor": 0
      },
      "text/plain": [
       "FloatProgress(value=0.0, bar_style='info', description='Progress:', layout=Layout(height='25px', width='50%'),…"
      ]
     },
     "metadata": {},
     "output_type": "display_data"
    }
   ],
   "source": [
    "Session_data = data_min.withColumn(\"Session\", udfsomefunc(\"session_difference\",\"User_id\")).drop(col('session_difference'))\n"
   ]
  },
  {
   "cell_type": "code",
   "execution_count": 16,
   "id": "b12da260-5650-4c18-b27f-e3e0942c34e1",
   "metadata": {
    "execution": {
     "iopub.execute_input": "2022-09-21T06:56:27.629113Z",
     "iopub.status.busy": "2022-09-21T06:56:27.628854Z",
     "iopub.status.idle": "2022-09-21T06:56:38.974867Z",
     "shell.execute_reply": "2022-09-21T06:56:38.974166Z",
     "shell.execute_reply.started": "2022-09-21T06:56:27.629086Z"
    },
    "tags": []
   },
   "outputs": [
    {
     "data": {
      "application/vnd.jupyter.widget-view+json": {
       "model_id": "76f5c92400da4611bc1a9e16f23d2cef",
       "version_major": 2,
       "version_minor": 0
      },
      "text/plain": [
       "VBox()"
      ]
     },
     "metadata": {},
     "output_type": "display_data"
    },
    {
     "data": {
      "application/vnd.jupyter.widget-view+json": {
       "model_id": "",
       "version_major": 2,
       "version_minor": 0
      },
      "text/plain": [
       "FloatProgress(value=0.0, bar_style='info', description='Progress:', layout=Layout(height='25px', width='50%'),…"
      ]
     },
     "metadata": {},
     "output_type": "display_data"
    },
    {
     "name": "stdout",
     "output_type": "stream",
     "text": [
      "+-----------+--------------+--------------------+\n",
      "|    User_id|    Time_stamp|             Session|\n",
      "+-----------+--------------+--------------------+\n",
      "|Stop & Shop| 10/29/22 0:11|Session_id 0 of S...|\n",
      "|Stop & Shop| 10/29/22 0:41|Session_id 0 of S...|\n",
      "|Stop & Shop|10/29/22 11:10|Session_id 1 of S...|\n",
      "|Stop & Shop|10/31/22 11:18|Session_id 1 of S...|\n",
      "|     GF/TGC| 10/29/22 0:11|Session_id 0 of G...|\n",
      "+-----------+--------------+--------------------+\n",
      "only showing top 5 rows"
     ]
    }
   ],
   "source": [
    "Session_data.show(5)"
   ]
  },
  {
   "cell_type": "code",
   "execution_count": 16,
   "id": "86a60197-2c2d-4d97-ba48-dca3d086450f",
   "metadata": {
    "execution": {
     "iopub.execute_input": "2022-09-21T05:22:20.529249Z",
     "iopub.status.busy": "2022-09-21T05:22:20.529017Z",
     "iopub.status.idle": "2022-09-21T05:22:20.811132Z",
     "shell.execute_reply": "2022-09-21T05:22:20.810392Z",
     "shell.execute_reply.started": "2022-09-21T05:22:20.529225Z"
    },
    "tags": []
   },
   "outputs": [],
   "source": [
    "# # data_min = spark.sql(\"\"\" select User_id,Time_Stamp,case when diff is null then 0\n",
    "# # else datediff(diff,Time_stamp) end as session from (select User_id, URL, Time_Stamp, lag(Time_Stamp,1) over(partition by User_id order by Time_Stamp) as diff from data)\"\"\"\n",
    "# #                     )\n",
    "\n",
    "# data_min.sort(col('User_id'), col('Time_Stamp')).show(12)\n",
    "\n",
    "# from pyspark.sql.functions import *\n",
    "\n",
    "# Session_data = data_min.withColumn(\n",
    "#     'DiffInSeconds',\n",
    "#     col(\"Time_Stamp\").cast(\"long\") - col('diff').cast(\"long\"))\n",
    "# df2.show(truncate=False)\n",
    "\n",
    "\n",
    "\n",
    "\n",
    "\n",
    "\n",
    "\n",
    "# df.printSchema()\n",
    "\n",
    "# df.printSchema()\n",
    "\n",
    "# schema = StructType([\n",
    "#     StructField(\"User_id\", StringType(), True),\n",
    "#     StructField(\"URL\", IntegerType(), False),\n",
    "#     StructField(\"Time_Stamp\", TimestampType(), False)\n",
    "# ])\n",
    "\n",
    "# df.collect()\n",
    "\n",
    "# df.printSchema()\n",
    "\n",
    "# sc\n",
    "\n",
    "# acc = sc.accumulator(1)\n",
    "\n",
    "# window = Window.partitionBy('User_id').orderBy('Time_Stamp')\n",
    "\n",
    "\n",
    "# def somefunc(value, id):\n",
    "#     global acc\n",
    "\n",
    "#     if value is None:\n",
    "#         acc = 1\n",
    "#         return ('Session_id ' + str(acc) + ' of ' + id)\n",
    "\n",
    "#     elif value > 30:\n",
    "#         acc += 1\n",
    "#         return ('Session_id ' + str(acc) + ' of ' + id)\n",
    "#     else:\n",
    "#         return ('Session_id ' + str(acc) + ' of ' + id)\n",
    "\n",
    "\n",
    "# udfsomefunc = F.udf(somefunc, StringType())\n",
    "\n",
    "# from pyspark.sql.functions import *\n",
    "\n",
    "# df2 = df.withColumn(\"unix_timestamp\", unix_timestamp(F.col(\"Time_Stamp\")))\n",
    "\n",
    "# df2.show(3)\n",
    "\n",
    "# df.show()\n",
    "\n",
    "# df3 = df2.withColumn(\n",
    "#     'minutes',\n",
    "#     ((df.unix_timestamp - funcs.lag(df.unix_timestamp, 1).over(window)) /\n",
    "#      60).cast(IntegerType())).withColumn(\"Session\",\n",
    "#                                          udfsomefunc(\"minutes\", \"SWID\"))\n",
    "\n",
    "# import pyspark.sql.functions as F\n",
    "\n",
    "# df3 = df2.withColumn(\"lag\", F.lag(F.unix_timestamp, 1).over(window))\n",
    "\n"
   ]
  }
 ],
 "metadata": {
  "kernelspec": {
   "display_name": "PySpark",
   "language": "python",
   "name": "pysparkkernel"
  },
  "language_info": {
   "codemirror_mode": {
    "name": "python",
    "version": 3
   },
   "file_extension": ".py",
   "mimetype": "text/x-python",
   "name": "pyspark",
   "pygments_lexer": "python3"
  }
 },
 "nbformat": 4,
 "nbformat_minor": 5
}
